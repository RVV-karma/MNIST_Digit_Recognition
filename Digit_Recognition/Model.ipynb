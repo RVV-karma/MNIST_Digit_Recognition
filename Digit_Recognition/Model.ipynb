{
  "nbformat": 4,
  "nbformat_minor": 0,
  "metadata": {
    "kernelspec": {
      "display_name": "Python 3",
      "language": "python",
      "name": "python3"
    },
    "language_info": {
      "codemirror_mode": {
        "name": "ipython",
        "version": 3
      },
      "file_extension": ".py",
      "mimetype": "text/x-python",
      "name": "python",
      "nbconvert_exporter": "python",
      "pygments_lexer": "ipython3",
      "version": "3.7.6"
    },
    "colab": {
      "name": "Model.ipynb",
      "provenance": []
    },
    "accelerator": "GPU"
  },
  "cells": [
    {
      "cell_type": "markdown",
      "metadata": {
        "id": "JDVUOpA7YYKg",
        "colab_type": "text"
      },
      "source": [
        "# Load Important Libraries"
      ]
    },
    {
      "cell_type": "code",
      "metadata": {
        "id": "8iFarObIYYKi",
        "colab_type": "code",
        "colab": {
          "base_uri": "https://localhost:8080/",
          "height": 34
        },
        "outputId": "b4615ef2-b697-4cd6-b149-85a5fd946f81"
      },
      "source": [
        "from keras.datasets import mnist\n",
        "import matplotlib.pyplot as plt\n",
        "from random import randint\n",
        "from keras.utils import to_categorical\n",
        "from keras.models import Sequential\n",
        "from keras.layers import Conv2D\n",
        "from keras.layers import MaxPooling2D\n",
        "from keras.layers import Dense\n",
        "from keras.layers import Flatten\n",
        "from keras.optimizers import SGD\n",
        "from sklearn.model_selection import KFold\n",
        "from numpy import mean\n",
        "from numpy import std\n",
        "import numpy as np\n",
        "import cv2\n",
        "from keras.models import load_model"
      ],
      "execution_count": 2,
      "outputs": [
        {
          "output_type": "stream",
          "text": [
            "Using TensorFlow backend.\n"
          ],
          "name": "stderr"
        }
      ]
    },
    {
      "cell_type": "markdown",
      "metadata": {
        "id": "C_wpRHe7YYKr",
        "colab_type": "text"
      },
      "source": [
        "# To run on GPU, run the next cell"
      ]
    },
    {
      "cell_type": "code",
      "metadata": {
        "id": "DEIalxS1YYKs",
        "colab_type": "code",
        "colab": {
          "base_uri": "https://localhost:8080/",
          "height": 34
        },
        "outputId": "3180a3ba-7433-4065-b335-ed0deaa043be"
      },
      "source": [
        "import tensorflow as tf\n",
        "from keras import backend as K\n",
        "import keras.backend.tensorflow_backend as tfback\n",
        "\n",
        "def _get_available_gpus():\n",
        "    \n",
        "    #global _LOCAL_DEVICES\n",
        "    if tfback._LOCAL_DEVICES is None:\n",
        "        devices = tf.config.list_logical_devices()\n",
        "        tfback._LOCAL_DEVICES = [x.name for x in devices]\n",
        "    return [x for x in tfback._LOCAL_DEVICES if 'device:gpu' in x.lower()]\n",
        "\n",
        "tfback._get_available_gpus = _get_available_gpus\n",
        "\n",
        "\n",
        "K.tensorflow_backend._get_available_gpus()"
      ],
      "execution_count": 3,
      "outputs": [
        {
          "output_type": "execute_result",
          "data": {
            "text/plain": [
              "['/device:GPU:0']"
            ]
          },
          "metadata": {
            "tags": []
          },
          "execution_count": 3
        }
      ]
    },
    {
      "cell_type": "markdown",
      "metadata": {
        "id": "IsvyTRuSYYKy",
        "colab_type": "text"
      },
      "source": [
        "# To run on TPU, run the next cell"
      ]
    },
    {
      "cell_type": "code",
      "metadata": {
        "id": "T0BiHGh4YYK0",
        "colab_type": "code",
        "colab": {}
      },
      "source": [
        "import tensorflow as tf\n",
        "import os\n",
        "import tensorflow_datasets as tfds\n",
        "\n",
        "resolver = tf.distribute.cluster_resolver.TPUClusterResolver(tpu='grpc://' + os.environ['COLAB_TPU_ADDR'])\n",
        "tf.config.experimental_connect_to_cluster(resolver)\n",
        "# This is the TPU initialization code that has to be at the beginning.\n",
        "tf.tpu.experimental.initialize_tpu_system(resolver)\n",
        "print(\"All devices: \", tf.config.list_logical_devices('TPU'))"
      ],
      "execution_count": 0,
      "outputs": []
    },
    {
      "cell_type": "markdown",
      "metadata": {
        "id": "3tdFt7q_YYK6",
        "colab_type": "text"
      },
      "source": [
        "# Load MNIST Data\n",
        "## You could load yours dataset as well by changing the next cell"
      ]
    },
    {
      "cell_type": "code",
      "metadata": {
        "id": "XFFOvj2_YYK7",
        "colab_type": "code",
        "colab": {}
      },
      "source": [
        "def load_dataset():\n",
        "    # Load the Dataset\n",
        "    (X_train_orig, Y_train_orig), (X_test_orig, Y_test_orig) = mnist.load_data()\n",
        "    # Reshape Dataset to have single channel\n",
        "    X_train = X_train_orig.reshape((X_train_orig.shape[0], 28, 28, 1))\n",
        "    X_test = X_test_orig.reshape((X_test_orig.shape[0], 28, 28, 1))\n",
        "    # One Hot Encoding the output values\n",
        "    Y_train = to_categorical(Y_train_orig)\n",
        "    Y_test = to_categorical(Y_test_orig)\n",
        "    \n",
        "    return X_train, Y_train, X_test, Y_test"
      ],
      "execution_count": 0,
      "outputs": []
    },
    {
      "cell_type": "markdown",
      "metadata": {
        "id": "yRTKKUCqYYLC",
        "colab_type": "text"
      },
      "source": [
        "# Preprocessing of Data"
      ]
    },
    {
      "cell_type": "code",
      "metadata": {
        "id": "fa6UD0Q7YYLD",
        "colab_type": "code",
        "colab": {}
      },
      "source": [
        "def preprocessing(X_train, X_test):\n",
        "    # Converting values from int to float\n",
        "    X_train = X_train.astype('float')\n",
        "    X_test = X_test.astype('float')\n",
        "    # Normalization\n",
        "    X_train = X_train / 255.0\n",
        "    X_test = X_test / 255.0\n",
        "    \n",
        "    return X_train, X_test"
      ],
      "execution_count": 0,
      "outputs": []
    },
    {
      "cell_type": "markdown",
      "metadata": {
        "id": "ncFeW6LkYYLJ",
        "colab_type": "text"
      },
      "source": [
        "# Create Model and check its feasibility"
      ]
    },
    {
      "cell_type": "code",
      "metadata": {
        "id": "dle06jTiYYLK",
        "colab_type": "code",
        "colab": {}
      },
      "source": [
        "def define_model():\n",
        "    \n",
        "    model = Sequential()\n",
        "    model.add(Conv2D(32, kernel_size = (3, 3), activation = 'relu', kernel_initializer = 'he_uniform'))\n",
        "    model.add(MaxPooling2D((2, 2)))\n",
        "    model.add(Conv2D(64, kernel_size = (2, 2), activation = 'relu'))\n",
        "    model.add(MaxPooling2D(2, 2))\n",
        "    model.add(Conv2D(256, kernel_size = (2, 2), activation = 'relu'))\n",
        "    model.add(Flatten())\n",
        "    model.add(Dense(1024, activation = 'relu', kernel_initializer = 'he_uniform'))\n",
        "    model.add(Dense(256, activation = 'relu'))\n",
        "    model.add(Dense(10, activation = 'softmax'))\n",
        "    # Compile Model\n",
        "    opt = SGD(learning_rate = 0.01, momentum = 0.9)\n",
        "    model.compile(optimizer = opt, loss = 'categorical_crossentropy', metrics = ['accuracy'])\n",
        "    \n",
        "    return model"
      ],
      "execution_count": 0,
      "outputs": []
    },
    {
      "cell_type": "code",
      "metadata": {
        "id": "Ljw9XowAYYLR",
        "colab_type": "code",
        "colab": {}
      },
      "source": [
        "def evaluate_model(X_data, Y_data, n_folds = 5):\n",
        "    # Initialize empty list\n",
        "    scores, histories = list(), list()\n",
        "    # Create Cross Validation\n",
        "    kFold = KFold(n_folds, shuffle = True)\n",
        "    # Enumerate Splits\n",
        "    for i_train, i_test in kFold.split(X_data):\n",
        "        # Define Model\n",
        "        model = define_model()\n",
        "        X_train, Y_train, X_test, Y_test = X_data[i_train], Y_data[i_train], X_data[i_test], Y_data[i_test]\n",
        "        # Fit Model\n",
        "        history = model.fit(X_train, Y_train, epochs = 10, batch_size = 32, validation_data = (X_test, Y_test), verbose = 1)\n",
        "        # Evaluate Model\n",
        "        _, acc = model.evaluate(X_test, Y_test, verbose = 1)\n",
        "        print('> %.3f' % (acc*100.0))\n",
        "        # Store Scores and Histories\n",
        "        scores.append(acc)\n",
        "        histories.append(history)\n",
        "        \n",
        "    return scores, histories"
      ],
      "execution_count": 0,
      "outputs": []
    },
    {
      "cell_type": "code",
      "metadata": {
        "id": "ZbVYGk0iYYLW",
        "colab_type": "code",
        "colab": {}
      },
      "source": [
        "def performance(scores, histories):\n",
        "    \n",
        "    for i in range(len(histories)):\n",
        "        # Plot Loss\n",
        "        plt.subplot(2,2,1)\n",
        "        plt.title('Cross Entropy Loss')\n",
        "        plt.plot(histories[i].history['loss'], color = 'blue', label = 'train')\n",
        "        plt.plot(histories[i].history['val_loss'], color = 'red', label = 'test')\n",
        "        # Plot Accuracy\n",
        "        plt.subplot(2,2,2)\n",
        "        plt.title('Classification Accuracy')\n",
        "        plt.plot(histories[i].history['accuracy'], color = 'blue', label = 'train')\n",
        "        plt.plot(histories[i].history['val_accuracy'], color = 'red', label = 'test')\n",
        "        \n",
        "    plt.show()\n",
        "\n",
        "    print('Accuracy: \\nMean = %.3f, std = %.3f, n = %d' % (mean(scores)*100, std(scores)*100, len(scores)))"
      ],
      "execution_count": 0,
      "outputs": []
    },
    {
      "cell_type": "code",
      "metadata": {
        "id": "j01HvBKnYYLd",
        "colab_type": "code",
        "colab": {}
      },
      "source": [
        "def check_model():\n",
        "    # Collect all the above functions to check our Model\n",
        "    X_train, Y_train, X_test, Y_test = load_dataset()\n",
        "    X_train, X_test = preprocessing(X_train, X_test)\n",
        "    scores, histories = evaluate_model(X_train, Y_train)\n",
        "    performance(scores, histories)\n"
      ],
      "execution_count": 0,
      "outputs": []
    },
    {
      "cell_type": "code",
      "metadata": {
        "id": "iv4OFBeMYYLi",
        "colab_type": "code",
        "colab": {
          "base_uri": "https://localhost:8080/",
          "height": 1000
        },
        "outputId": "b40f8f44-09bb-4a14-b2fd-e45e2362ac40"
      },
      "source": [
        "# Run this cell to check our Model\n",
        "check_model()"
      ],
      "execution_count": 9,
      "outputs": [
        {
          "output_type": "stream",
          "text": [
            "Downloading data from https://s3.amazonaws.com/img-datasets/mnist.npz\n",
            "11493376/11490434 [==============================] - 1s 0us/step\n",
            "Train on 48000 samples, validate on 12000 samples\n",
            "Epoch 1/10\n",
            "48000/48000 [==============================] - 22s 468us/step - loss: 0.1526 - accuracy: 0.9520 - val_loss: 0.0586 - val_accuracy: 0.9827\n",
            "Epoch 2/10\n",
            "48000/48000 [==============================] - 16s 325us/step - loss: 0.0438 - accuracy: 0.9862 - val_loss: 0.0421 - val_accuracy: 0.9871\n",
            "Epoch 3/10\n",
            "48000/48000 [==============================] - 16s 333us/step - loss: 0.0276 - accuracy: 0.9916 - val_loss: 0.0413 - val_accuracy: 0.9871\n",
            "Epoch 4/10\n",
            "48000/48000 [==============================] - 16s 337us/step - loss: 0.0185 - accuracy: 0.9943 - val_loss: 0.0466 - val_accuracy: 0.9865\n",
            "Epoch 5/10\n",
            "48000/48000 [==============================] - 16s 339us/step - loss: 0.0131 - accuracy: 0.9956 - val_loss: 0.0387 - val_accuracy: 0.9881\n",
            "Epoch 6/10\n",
            "48000/48000 [==============================] - 16s 324us/step - loss: 0.0087 - accuracy: 0.9972 - val_loss: 0.0375 - val_accuracy: 0.9899\n",
            "Epoch 7/10\n",
            "48000/48000 [==============================] - 16s 328us/step - loss: 0.0076 - accuracy: 0.9977 - val_loss: 0.0351 - val_accuracy: 0.9902\n",
            "Epoch 8/10\n",
            "48000/48000 [==============================] - 16s 334us/step - loss: 0.0043 - accuracy: 0.9986 - val_loss: 0.0405 - val_accuracy: 0.9900\n",
            "Epoch 9/10\n",
            "48000/48000 [==============================] - 16s 323us/step - loss: 0.0047 - accuracy: 0.9987 - val_loss: 0.0485 - val_accuracy: 0.9885\n",
            "Epoch 10/10\n",
            "48000/48000 [==============================] - 15s 319us/step - loss: 0.0032 - accuracy: 0.9990 - val_loss: 0.0360 - val_accuracy: 0.9913\n",
            "12000/12000 [==============================] - 1s 119us/step\n",
            "> 99.133\n",
            "Train on 48000 samples, validate on 12000 samples\n",
            "Epoch 1/10\n",
            "48000/48000 [==============================] - 16s 324us/step - loss: 0.1453 - accuracy: 0.9551 - val_loss: 0.0530 - val_accuracy: 0.9839\n",
            "Epoch 2/10\n",
            "48000/48000 [==============================] - 15s 320us/step - loss: 0.0413 - accuracy: 0.9872 - val_loss: 0.0456 - val_accuracy: 0.9860\n",
            "Epoch 3/10\n",
            "48000/48000 [==============================] - 15s 316us/step - loss: 0.0280 - accuracy: 0.9909 - val_loss: 0.0384 - val_accuracy: 0.9883\n",
            "Epoch 4/10\n",
            "48000/48000 [==============================] - 15s 318us/step - loss: 0.0175 - accuracy: 0.9945 - val_loss: 0.0435 - val_accuracy: 0.9878\n",
            "Epoch 5/10\n",
            "48000/48000 [==============================] - 15s 320us/step - loss: 0.0138 - accuracy: 0.9952 - val_loss: 0.0405 - val_accuracy: 0.9886\n",
            "Epoch 6/10\n",
            "48000/48000 [==============================] - 15s 319us/step - loss: 0.0084 - accuracy: 0.9975 - val_loss: 0.0352 - val_accuracy: 0.9904\n",
            "Epoch 7/10\n",
            "48000/48000 [==============================] - 15s 321us/step - loss: 0.0068 - accuracy: 0.9979 - val_loss: 0.0365 - val_accuracy: 0.9912\n",
            "Epoch 8/10\n",
            "48000/48000 [==============================] - 15s 321us/step - loss: 0.0058 - accuracy: 0.9982 - val_loss: 0.0355 - val_accuracy: 0.9905\n",
            "Epoch 9/10\n",
            "48000/48000 [==============================] - 15s 322us/step - loss: 0.0028 - accuracy: 0.9991 - val_loss: 0.0466 - val_accuracy: 0.9895\n",
            "Epoch 10/10\n",
            "48000/48000 [==============================] - 15s 320us/step - loss: 0.0014 - accuracy: 0.9996 - val_loss: 0.0410 - val_accuracy: 0.9917\n",
            "12000/12000 [==============================] - 1s 114us/step\n",
            "> 99.167\n",
            "Train on 48000 samples, validate on 12000 samples\n",
            "Epoch 1/10\n",
            "48000/48000 [==============================] - 15s 320us/step - loss: 0.1411 - accuracy: 0.9557 - val_loss: 0.0496 - val_accuracy: 0.9850\n",
            "Epoch 2/10\n",
            "48000/48000 [==============================] - 15s 321us/step - loss: 0.0410 - accuracy: 0.9873 - val_loss: 0.0379 - val_accuracy: 0.9887\n",
            "Epoch 3/10\n",
            "48000/48000 [==============================] - 16s 332us/step - loss: 0.0267 - accuracy: 0.9916 - val_loss: 0.0404 - val_accuracy: 0.9880\n",
            "Epoch 4/10\n",
            "48000/48000 [==============================] - 15s 321us/step - loss: 0.0170 - accuracy: 0.9946 - val_loss: 0.0460 - val_accuracy: 0.9872\n",
            "Epoch 5/10\n",
            "48000/48000 [==============================] - 15s 322us/step - loss: 0.0133 - accuracy: 0.9953 - val_loss: 0.0266 - val_accuracy: 0.9919\n",
            "Epoch 6/10\n",
            "48000/48000 [==============================] - 15s 315us/step - loss: 0.0094 - accuracy: 0.9969 - val_loss: 0.0382 - val_accuracy: 0.9885\n",
            "Epoch 7/10\n",
            "48000/48000 [==============================] - 15s 317us/step - loss: 0.0065 - accuracy: 0.9979 - val_loss: 0.0393 - val_accuracy: 0.9886\n",
            "Epoch 8/10\n",
            "48000/48000 [==============================] - 15s 318us/step - loss: 0.0061 - accuracy: 0.9980 - val_loss: 0.0391 - val_accuracy: 0.9883\n",
            "Epoch 9/10\n",
            "48000/48000 [==============================] - 15s 315us/step - loss: 0.0039 - accuracy: 0.9987 - val_loss: 0.0347 - val_accuracy: 0.9899\n",
            "Epoch 10/10\n",
            "48000/48000 [==============================] - 15s 313us/step - loss: 0.0020 - accuracy: 0.9994 - val_loss: 0.0324 - val_accuracy: 0.9913\n",
            "12000/12000 [==============================] - 1s 117us/step\n",
            "> 99.133\n",
            "Train on 48000 samples, validate on 12000 samples\n",
            "Epoch 1/10\n",
            "48000/48000 [==============================] - 15s 321us/step - loss: 0.1519 - accuracy: 0.9526 - val_loss: 0.0777 - val_accuracy: 0.9748\n",
            "Epoch 2/10\n",
            "48000/48000 [==============================] - 15s 317us/step - loss: 0.0425 - accuracy: 0.9868 - val_loss: 0.0390 - val_accuracy: 0.9885\n",
            "Epoch 3/10\n",
            "48000/48000 [==============================] - 15s 315us/step - loss: 0.0271 - accuracy: 0.9915 - val_loss: 0.0359 - val_accuracy: 0.9882\n",
            "Epoch 4/10\n",
            "48000/48000 [==============================] - 15s 314us/step - loss: 0.0168 - accuracy: 0.9949 - val_loss: 0.0373 - val_accuracy: 0.9891\n",
            "Epoch 5/10\n",
            "48000/48000 [==============================] - 15s 315us/step - loss: 0.0120 - accuracy: 0.9961 - val_loss: 0.0321 - val_accuracy: 0.9915\n",
            "Epoch 6/10\n",
            "48000/48000 [==============================] - 15s 318us/step - loss: 0.0088 - accuracy: 0.9970 - val_loss: 0.0430 - val_accuracy: 0.9891\n",
            "Epoch 7/10\n",
            "48000/48000 [==============================] - 15s 317us/step - loss: 0.0057 - accuracy: 0.9983 - val_loss: 0.0342 - val_accuracy: 0.9912\n",
            "Epoch 8/10\n",
            "48000/48000 [==============================] - 15s 320us/step - loss: 0.0046 - accuracy: 0.9987 - val_loss: 0.0328 - val_accuracy: 0.9914\n",
            "Epoch 9/10\n",
            "48000/48000 [==============================] - 15s 319us/step - loss: 0.0031 - accuracy: 0.9990 - val_loss: 0.0444 - val_accuracy: 0.9897\n",
            "Epoch 10/10\n",
            "48000/48000 [==============================] - 15s 319us/step - loss: 0.0019 - accuracy: 0.9994 - val_loss: 0.0372 - val_accuracy: 0.9923\n",
            "12000/12000 [==============================] - 1s 116us/step\n",
            "> 99.225\n",
            "Train on 48000 samples, validate on 12000 samples\n",
            "Epoch 1/10\n",
            "48000/48000 [==============================] - 15s 318us/step - loss: 0.1416 - accuracy: 0.9556 - val_loss: 0.0615 - val_accuracy: 0.9810\n",
            "Epoch 2/10\n",
            "48000/48000 [==============================] - 15s 322us/step - loss: 0.0425 - accuracy: 0.9865 - val_loss: 0.0435 - val_accuracy: 0.9867\n",
            "Epoch 3/10\n",
            "48000/48000 [==============================] - 16s 334us/step - loss: 0.0275 - accuracy: 0.9910 - val_loss: 0.0345 - val_accuracy: 0.9901\n",
            "Epoch 4/10\n",
            "48000/48000 [==============================] - 16s 325us/step - loss: 0.0171 - accuracy: 0.9945 - val_loss: 0.0361 - val_accuracy: 0.9895\n",
            "Epoch 5/10\n",
            "48000/48000 [==============================] - 15s 321us/step - loss: 0.0121 - accuracy: 0.9965 - val_loss: 0.0314 - val_accuracy: 0.9902\n",
            "Epoch 6/10\n",
            "48000/48000 [==============================] - 15s 319us/step - loss: 0.0095 - accuracy: 0.9970 - val_loss: 0.0359 - val_accuracy: 0.9901\n",
            "Epoch 7/10\n",
            "48000/48000 [==============================] - 15s 318us/step - loss: 0.0071 - accuracy: 0.9978 - val_loss: 0.0287 - val_accuracy: 0.9923\n",
            "Epoch 8/10\n",
            "48000/48000 [==============================] - 15s 318us/step - loss: 0.0039 - accuracy: 0.9989 - val_loss: 0.0332 - val_accuracy: 0.9922\n",
            "Epoch 9/10\n",
            "48000/48000 [==============================] - 15s 320us/step - loss: 0.0020 - accuracy: 0.9996 - val_loss: 0.0318 - val_accuracy: 0.9928\n",
            "Epoch 10/10\n",
            "48000/48000 [==============================] - 15s 319us/step - loss: 0.0024 - accuracy: 0.9992 - val_loss: 0.0356 - val_accuracy: 0.9917\n",
            "12000/12000 [==============================] - 1s 117us/step\n",
            "> 99.167\n"
          ],
          "name": "stdout"
        },
        {
          "output_type": "stream",
          "text": [
            "/usr/local/lib/python3.6/dist-packages/ipykernel_launcher.py:5: MatplotlibDeprecationWarning: Adding an axes using the same arguments as a previous axes currently reuses the earlier instance.  In a future version, a new instance will always be created and returned.  Meanwhile, this warning can be suppressed, and the future behavior ensured, by passing a unique label to each axes instance.\n",
            "  \"\"\"\n",
            "/usr/local/lib/python3.6/dist-packages/ipykernel_launcher.py:10: MatplotlibDeprecationWarning: Adding an axes using the same arguments as a previous axes currently reuses the earlier instance.  In a future version, a new instance will always be created and returned.  Meanwhile, this warning can be suppressed, and the future behavior ensured, by passing a unique label to each axes instance.\n",
            "  # Remove the CWD from sys.path while we load stuff.\n"
          ],
          "name": "stderr"
        },
        {
          "output_type": "display_data",
          "data": {
            "image/png": "[encoded data removed]",
            "text/plain": [
              "<Figure size 432x288 with 2 Axes>"
            ]
          },
          "metadata": {
            "tags": [],
            "needs_background": "light"
          }
        },
        {
          "output_type": "stream",
          "text": [
            "Accuracy: \n",
            "Mean = 99.165, std = 0.034, n = 5\n"
          ],
          "name": "stdout"
        }
      ]
    },
    {
      "cell_type": "markdown",
      "metadata": {
        "id": "mHHGPYlfYYLo",
        "colab_type": "text"
      },
      "source": [
        "# Train the model on whole Dataset"
      ]
    },
    {
      "cell_type": "code",
      "metadata": {
        "id": "lCZDHUtZYYLp",
        "colab_type": "code",
        "colab": {}
      },
      "source": [
        "def train_model():\n",
        "    # Load Dataset\n",
        "    X_train, Y_train, X_test, Y_test = load_dataset()\n",
        "    X_train, X_test = preprocessing(X_train, X_test)\n",
        "    # Training our Model on whole Dataset\n",
        "    model = define_model()\n",
        "    model.fit(X_train, Y_train, epochs = 30, batch_size = 32, verbose = 1)\n",
        "    # Saving our Model\n",
        "    model.save('Final.h5')\n",
        "    _, acc = model.evaluate(X_test, Y_test, verbose = 1)\n",
        "    print('Accuracy of our Model on Test Set: %.3f' % (acc*100))"
      ],
      "execution_count": 0,
      "outputs": []
    },
    {
      "cell_type": "code",
      "metadata": {
        "id": "2dA-ODHGYYLu",
        "colab_type": "code",
        "colab": {
          "base_uri": "https://localhost:8080/",
          "height": 1000
        },
        "outputId": "d21a4153-7300-4ad7-cc22-8663f7b22bb4"
      },
      "source": [
        "# Run this cell to train our Model\n",
        "train_model()"
      ],
      "execution_count": 11,
      "outputs": [
        {
          "output_type": "stream",
          "text": [
            "Epoch 1/30\n",
            "60000/60000 [==============================] - 19s 315us/step - loss: 0.1292 - accuracy: 0.9595\n",
            "Epoch 2/30\n",
            "60000/60000 [==============================] - 18s 293us/step - loss: 0.0390 - accuracy: 0.9873\n",
            "Epoch 3/30\n",
            "60000/60000 [==============================] - 17s 291us/step - loss: 0.0239 - accuracy: 0.9926\n",
            "Epoch 4/30\n",
            "60000/60000 [==============================] - 18s 293us/step - loss: 0.0166 - accuracy: 0.9947\n",
            "Epoch 5/30\n",
            "60000/60000 [==============================] - 17s 291us/step - loss: 0.0124 - accuracy: 0.9961\n",
            "Epoch 6/30\n",
            "60000/60000 [==============================] - 17s 283us/step - loss: 0.0088 - accuracy: 0.9972\n",
            "Epoch 7/30\n",
            "60000/60000 [==============================] - 17s 282us/step - loss: 0.0060 - accuracy: 0.9981\n",
            "Epoch 8/30\n",
            "60000/60000 [==============================] - 17s 283us/step - loss: 0.0042 - accuracy: 0.9988\n",
            "Epoch 9/30\n",
            "60000/60000 [==============================] - 17s 283us/step - loss: 0.0034 - accuracy: 0.9989\n",
            "Epoch 10/30\n",
            "60000/60000 [==============================] - 17s 285us/step - loss: 0.0023 - accuracy: 0.9994\n",
            "Epoch 11/30\n",
            "60000/60000 [==============================] - 17s 284us/step - loss: 0.0023 - accuracy: 0.9993\n",
            "Epoch 12/30\n",
            "60000/60000 [==============================] - 17s 284us/step - loss: 0.0012 - accuracy: 0.9997\n",
            "Epoch 13/30\n",
            "60000/60000 [==============================] - 17s 285us/step - loss: 5.2156e-04 - accuracy: 0.9998\n",
            "Epoch 14/30\n",
            "60000/60000 [==============================] - 17s 291us/step - loss: 2.1175e-04 - accuracy: 0.9999\n",
            "Epoch 15/30\n",
            "60000/60000 [==============================] - 18s 293us/step - loss: 1.3905e-04 - accuracy: 1.0000\n",
            "Epoch 16/30\n",
            "60000/60000 [==============================] - 17s 281us/step - loss: 2.2663e-04 - accuracy: 0.9999\n",
            "Epoch 17/30\n",
            "60000/60000 [==============================] - 17s 284us/step - loss: 1.4701e-04 - accuracy: 1.0000\n",
            "Epoch 18/30\n",
            "60000/60000 [==============================] - 17s 282us/step - loss: 5.2892e-05 - accuracy: 1.0000\n",
            "Epoch 19/30\n",
            "60000/60000 [==============================] - 17s 281us/step - loss: 2.8877e-05 - accuracy: 1.0000\n",
            "Epoch 20/30\n",
            "60000/60000 [==============================] - 17s 284us/step - loss: 2.2985e-05 - accuracy: 1.0000\n",
            "Epoch 21/30\n",
            "60000/60000 [==============================] - 17s 282us/step - loss: 2.0386e-05 - accuracy: 1.0000\n",
            "Epoch 22/30\n",
            "60000/60000 [==============================] - 17s 283us/step - loss: 1.7934e-05 - accuracy: 1.0000\n",
            "Epoch 23/30\n",
            "60000/60000 [==============================] - 17s 285us/step - loss: 1.6291e-05 - accuracy: 1.0000\n",
            "Epoch 24/30\n",
            "60000/60000 [==============================] - 17s 284us/step - loss: 1.4917e-05 - accuracy: 1.0000\n",
            "Epoch 25/30\n",
            "60000/60000 [==============================] - 17s 284us/step - loss: 1.3731e-05 - accuracy: 1.0000\n",
            "Epoch 26/30\n",
            "60000/60000 [==============================] - 17s 285us/step - loss: 1.2721e-05 - accuracy: 1.0000\n",
            "Epoch 27/30\n",
            "60000/60000 [==============================] - 17s 286us/step - loss: 1.1942e-05 - accuracy: 1.0000\n",
            "Epoch 28/30\n",
            "60000/60000 [==============================] - 17s 282us/step - loss: 1.1191e-05 - accuracy: 1.0000\n",
            "Epoch 29/30\n",
            "60000/60000 [==============================] - 17s 284us/step - loss: 1.0552e-05 - accuracy: 1.0000\n",
            "Epoch 30/30\n",
            "60000/60000 [==============================] - 17s 286us/step - loss: 1.0028e-05 - accuracy: 1.0000\n",
            "10000/10000 [==============================] - 1s 121us/step\n",
            "Accuracy of our Model on Test Set: 99.460\n"
          ],
          "name": "stdout"
        }
      ]
    },
    {
      "cell_type": "markdown",
      "metadata": {
        "id": "MwQwEOl8YYLz",
        "colab_type": "text"
      },
      "source": [
        "# Predict the Digit from given Image"
      ]
    },
    {
      "cell_type": "code",
      "metadata": {
        "id": "dQVU1o4xYYL0",
        "colab_type": "code",
        "colab": {}
      },
      "source": [
        "def prediction_preprocessing(filename):\n",
        "    # Read the image\n",
        "    img2 = cv2.imread(filename)\n",
        "    # Convert image into grayscale\n",
        "    gray = cv2.cvtColor(img2, cv2.COLOR_BGR2GRAY)\n",
        "    # Resize image to the dimension of input to our Model\n",
        "    res = cv2.resize(gray, dsize=(28,28), interpolation=cv2.INTER_CUBIC)\n",
        "    # Preprocessing the image\n",
        "    img = res.reshape(1, 28, 28, 1)\n",
        "    img = img.astype('float')\n",
        "    img = img / 255.0\n",
        "    # Print the image\n",
        "    plt.imshow(img2)\n",
        "\n",
        "    return img"
      ],
      "execution_count": 0,
      "outputs": []
    },
    {
      "cell_type": "code",
      "metadata": {
        "id": "3mP38z7rYYL6",
        "colab_type": "code",
        "colab": {}
      },
      "source": [
        "def prediction(filename):\n",
        "    # Preprocess image\n",
        "    img = prediction_preprocessing(filename)\n",
        "    # Load Model\n",
        "    model = load_model('Final.h5')\n",
        "    # Predict output\n",
        "    digit = model.predict_classes(img)\n",
        "    # Print the digit\n",
        "    print('Predicted Output: ', digit)"
      ],
      "execution_count": 0,
      "outputs": []
    },
    {
      "cell_type": "code",
      "metadata": {
        "id": "EebDxniiYYMD",
        "colab_type": "code",
        "colab": {
          "base_uri": "https://localhost:8080/",
          "height": 286
        },
        "outputId": "0dbb4df0-1751-4f02-caae-9d64ab9a8f4f"
      },
      "source": [
        "prediction('sample_image.png')"
      ],
      "execution_count": 14,
      "outputs": [
        {
          "output_type": "stream",
          "text": [
            "Predicted Output:  [7]\n"
          ],
          "name": "stdout"
        },
        {
          "output_type": "display_data",
          "data": {
            "image/png": "[encoded data removed]",
            "text/plain": [
              "<Figure size 432x288 with 1 Axes>"
            ]
          },
          "metadata": {
            "tags": [],
            "needs_background": "light"
          }
        }
      ]
    },
    {
      "cell_type": "code",
      "metadata": {
        "id": "vzhTLL92fua7",
        "colab_type": "code",
        "colab": {}
      },
      "source": [
        ""
      ],
      "execution_count": 0,
      "outputs": []
    }
  ]
}